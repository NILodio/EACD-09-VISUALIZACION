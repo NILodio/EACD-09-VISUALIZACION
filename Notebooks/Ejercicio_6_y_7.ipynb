{
  "nbformat": 4,
  "nbformat_minor": 0,
  "metadata": {
    "colab": {
      "name": "Ejercicio 6 y 7.ipynb",
      "provenance": [],
      "collapsed_sections": []
    },
    "kernelspec": {
      "name": "python3",
      "display_name": "Python 3"
    },
    "language_info": {
      "name": "python"
    }
  },
  "cells": [
    {
      "cell_type": "markdown",
      "metadata": {
        "id": "Pqi61QCRUYMQ"
      },
      "source": [
        "##**Ejercicio 6**\n",
        "\n",
        "Trabajas en el departamento de Atención al Cliente, posees la data de los tickets ( solicitudes ) \n",
        "recibidas y procesadas, en Mayo dos empleados se fueron de la empresa. Tu colega quiere \n",
        "presentar este gráfico al jefe para contarle de la situación. Analiza la data, has un listado de los \n",
        "problemas que encuentras, haciendo uso de la técnica de data-link ratio y los Principios del \n",
        "Diseño Analítico reconstruye el mismo tal que cuente una historia de una manera clara y \n",
        "placentera. Los datos se encuentran en ticket_trend.json adjunta a esta guía de ejercicios"
      ]
    },
    {
      "cell_type": "code",
      "metadata": {
        "colab": {
          "base_uri": "https://localhost:8080/",
          "height": 17
        },
        "id": "xiU5EOH-1Cx0",
        "outputId": "b116910e-7e5a-4b71-f19f-7287efc14247"
      },
      "source": [
        "import numpy as np # linear algebra\n",
        "import pandas as pd # data processing, CSV file I/O (e.g. pd.read_csv)\n",
        "import seaborn as sns\n",
        "# plotly\n",
        "import plotly.graph_objs as go\n",
        "from plotly.offline import init_notebook_mode, iplot\n",
        "init_notebook_mode(connected=True)\n",
        "import plotly.graph_objs as go\n",
        "\n",
        "# word cloud library\n",
        "from wordcloud import WordCloud\n",
        "\n",
        "# matplotlib\n",
        "import matplotlib.pyplot as plt\n",
        "# Input data files are available in the \"../input/\" directory.\n",
        "# For example, running this (by clicking run or pressing Shift+Enter) will list the files in the input directory"
      ],
      "execution_count": 2,
      "outputs": [
        {
          "output_type": "display_data",
          "data": {
            "text/html": [
              "        <script type=\"text/javascript\">\n",
              "        window.PlotlyConfig = {MathJaxConfig: 'local'};\n",
              "        if (window.MathJax) {MathJax.Hub.Config({SVG: {font: \"STIX-Web\"}});}\n",
              "        if (typeof require !== 'undefined') {\n",
              "        require.undef(\"plotly\");\n",
              "        requirejs.config({\n",
              "            paths: {\n",
              "                'plotly': ['https://cdn.plot.ly/plotly-latest.min']\n",
              "            }\n",
              "        });\n",
              "        require(['plotly'], function(Plotly) {\n",
              "            window._Plotly = Plotly;\n",
              "        });\n",
              "        }\n",
              "        </script>\n",
              "        "
            ]
          },
          "metadata": {
            "tags": []
          }
        }
      ]
    },
    {
      "cell_type": "code",
      "metadata": {
        "colab": {
          "base_uri": "https://localhost:8080/",
          "height": 204
        },
        "id": "x0s-fXhw1pKe",
        "outputId": "90e4316c-039e-4dd7-9648-c06b0c446c46"
      },
      "source": [
        "df=pd.read_json('ticket_trend.json')\n",
        "df.head(5)"
      ],
      "execution_count": 3,
      "outputs": [
        {
          "output_type": "execute_result",
          "data": {
            "text/html": [
              "<div>\n",
              "<style scoped>\n",
              "    .dataframe tbody tr th:only-of-type {\n",
              "        vertical-align: middle;\n",
              "    }\n",
              "\n",
              "    .dataframe tbody tr th {\n",
              "        vertical-align: top;\n",
              "    }\n",
              "\n",
              "    .dataframe thead th {\n",
              "        text-align: right;\n",
              "    }\n",
              "</style>\n",
              "<table border=\"1\" class=\"dataframe\">\n",
              "  <thead>\n",
              "    <tr style=\"text-align: right;\">\n",
              "      <th></th>\n",
              "      <th>Ticket_Type</th>\n",
              "      <th>Number_of_Tickets</th>\n",
              "      <th>Date</th>\n",
              "    </tr>\n",
              "  </thead>\n",
              "  <tbody>\n",
              "    <tr>\n",
              "      <th>0</th>\n",
              "      <td>Received</td>\n",
              "      <td>160</td>\n",
              "      <td>2019-01-01</td>\n",
              "    </tr>\n",
              "    <tr>\n",
              "      <th>1</th>\n",
              "      <td>Received</td>\n",
              "      <td>184</td>\n",
              "      <td>2019-02-01</td>\n",
              "    </tr>\n",
              "    <tr>\n",
              "      <th>2</th>\n",
              "      <td>Received</td>\n",
              "      <td>241</td>\n",
              "      <td>2019-03-01</td>\n",
              "    </tr>\n",
              "    <tr>\n",
              "      <th>3</th>\n",
              "      <td>Received</td>\n",
              "      <td>149</td>\n",
              "      <td>2019-04-01</td>\n",
              "    </tr>\n",
              "    <tr>\n",
              "      <th>4</th>\n",
              "      <td>Received</td>\n",
              "      <td>180</td>\n",
              "      <td>2019-05-01</td>\n",
              "    </tr>\n",
              "  </tbody>\n",
              "</table>\n",
              "</div>"
            ],
            "text/plain": [
              "  Ticket_Type  Number_of_Tickets       Date\n",
              "0    Received                160 2019-01-01\n",
              "1    Received                184 2019-02-01\n",
              "2    Received                241 2019-03-01\n",
              "3    Received                149 2019-04-01\n",
              "4    Received                180 2019-05-01"
            ]
          },
          "metadata": {
            "tags": []
          },
          "execution_count": 3
        }
      ]
    },
    {
      "cell_type": "code",
      "metadata": {
        "colab": {
          "base_uri": "https://localhost:8080/",
          "height": 204
        },
        "id": "fO_6zX5X2SSM",
        "outputId": "f59020ba-41f2-4191-ec40-d5df1ccb4780"
      },
      "source": [
        "df['Date']=pd.to_datetime(df['Date'])\n",
        "df['Month']=pd.DatetimeIndex(df['Date']).month_name()\n",
        "df.head(5)\n"
      ],
      "execution_count": 4,
      "outputs": [
        {
          "output_type": "execute_result",
          "data": {
            "text/html": [
              "<div>\n",
              "<style scoped>\n",
              "    .dataframe tbody tr th:only-of-type {\n",
              "        vertical-align: middle;\n",
              "    }\n",
              "\n",
              "    .dataframe tbody tr th {\n",
              "        vertical-align: top;\n",
              "    }\n",
              "\n",
              "    .dataframe thead th {\n",
              "        text-align: right;\n",
              "    }\n",
              "</style>\n",
              "<table border=\"1\" class=\"dataframe\">\n",
              "  <thead>\n",
              "    <tr style=\"text-align: right;\">\n",
              "      <th></th>\n",
              "      <th>Ticket_Type</th>\n",
              "      <th>Number_of_Tickets</th>\n",
              "      <th>Date</th>\n",
              "      <th>Month</th>\n",
              "    </tr>\n",
              "  </thead>\n",
              "  <tbody>\n",
              "    <tr>\n",
              "      <th>0</th>\n",
              "      <td>Received</td>\n",
              "      <td>160</td>\n",
              "      <td>2019-01-01</td>\n",
              "      <td>January</td>\n",
              "    </tr>\n",
              "    <tr>\n",
              "      <th>1</th>\n",
              "      <td>Received</td>\n",
              "      <td>184</td>\n",
              "      <td>2019-02-01</td>\n",
              "      <td>February</td>\n",
              "    </tr>\n",
              "    <tr>\n",
              "      <th>2</th>\n",
              "      <td>Received</td>\n",
              "      <td>241</td>\n",
              "      <td>2019-03-01</td>\n",
              "      <td>March</td>\n",
              "    </tr>\n",
              "    <tr>\n",
              "      <th>3</th>\n",
              "      <td>Received</td>\n",
              "      <td>149</td>\n",
              "      <td>2019-04-01</td>\n",
              "      <td>April</td>\n",
              "    </tr>\n",
              "    <tr>\n",
              "      <th>4</th>\n",
              "      <td>Received</td>\n",
              "      <td>180</td>\n",
              "      <td>2019-05-01</td>\n",
              "      <td>May</td>\n",
              "    </tr>\n",
              "  </tbody>\n",
              "</table>\n",
              "</div>"
            ],
            "text/plain": [
              "  Ticket_Type  Number_of_Tickets       Date     Month\n",
              "0    Received                160 2019-01-01   January\n",
              "1    Received                184 2019-02-01  February\n",
              "2    Received                241 2019-03-01     March\n",
              "3    Received                149 2019-04-01     April\n",
              "4    Received                180 2019-05-01       May"
            ]
          },
          "metadata": {
            "tags": []
          },
          "execution_count": 4
        }
      ]
    },
    {
      "cell_type": "code",
      "metadata": {
        "colab": {
          "base_uri": "https://localhost:8080/",
          "height": 421
        },
        "id": "rBme93ttGJhR",
        "outputId": "c771d9c7-4d06-415d-a488-15cb734b2d8e"
      },
      "source": [
        "NewDf=df.pivot(index=['Date','Month'], columns='Ticket_Type', values='Number_of_Tickets').reset_index().sort_values(by=['Date'])\n",
        "NewDf['Porcentaje tickets procesados']=(NewDf['Processed']/NewDf['Received'])*100\n",
        "NewDf"
      ],
      "execution_count": 5,
      "outputs": [
        {
          "output_type": "execute_result",
          "data": {
            "text/html": [
              "<div>\n",
              "<style scoped>\n",
              "    .dataframe tbody tr th:only-of-type {\n",
              "        vertical-align: middle;\n",
              "    }\n",
              "\n",
              "    .dataframe tbody tr th {\n",
              "        vertical-align: top;\n",
              "    }\n",
              "\n",
              "    .dataframe thead th {\n",
              "        text-align: right;\n",
              "    }\n",
              "</style>\n",
              "<table border=\"1\" class=\"dataframe\">\n",
              "  <thead>\n",
              "    <tr style=\"text-align: right;\">\n",
              "      <th>Ticket_Type</th>\n",
              "      <th>Date</th>\n",
              "      <th>Month</th>\n",
              "      <th>Processed</th>\n",
              "      <th>Received</th>\n",
              "      <th>Porcentaje tickets procesados</th>\n",
              "    </tr>\n",
              "  </thead>\n",
              "  <tbody>\n",
              "    <tr>\n",
              "      <th>0</th>\n",
              "      <td>2019-01-01</td>\n",
              "      <td>January</td>\n",
              "      <td>160</td>\n",
              "      <td>160</td>\n",
              "      <td>100.000000</td>\n",
              "    </tr>\n",
              "    <tr>\n",
              "      <th>1</th>\n",
              "      <td>2019-02-01</td>\n",
              "      <td>February</td>\n",
              "      <td>184</td>\n",
              "      <td>184</td>\n",
              "      <td>100.000000</td>\n",
              "    </tr>\n",
              "    <tr>\n",
              "      <th>2</th>\n",
              "      <td>2019-03-01</td>\n",
              "      <td>March</td>\n",
              "      <td>237</td>\n",
              "      <td>241</td>\n",
              "      <td>98.340249</td>\n",
              "    </tr>\n",
              "    <tr>\n",
              "      <th>3</th>\n",
              "      <td>2019-04-01</td>\n",
              "      <td>April</td>\n",
              "      <td>148</td>\n",
              "      <td>149</td>\n",
              "      <td>99.328859</td>\n",
              "    </tr>\n",
              "    <tr>\n",
              "      <th>4</th>\n",
              "      <td>2019-05-01</td>\n",
              "      <td>May</td>\n",
              "      <td>181</td>\n",
              "      <td>180</td>\n",
              "      <td>100.555556</td>\n",
              "    </tr>\n",
              "    <tr>\n",
              "      <th>5</th>\n",
              "      <td>2019-06-01</td>\n",
              "      <td>June</td>\n",
              "      <td>150</td>\n",
              "      <td>161</td>\n",
              "      <td>93.167702</td>\n",
              "    </tr>\n",
              "    <tr>\n",
              "      <th>6</th>\n",
              "      <td>2019-07-01</td>\n",
              "      <td>July</td>\n",
              "      <td>123</td>\n",
              "      <td>132</td>\n",
              "      <td>93.181818</td>\n",
              "    </tr>\n",
              "    <tr>\n",
              "      <th>7</th>\n",
              "      <td>2019-08-01</td>\n",
              "      <td>August</td>\n",
              "      <td>156</td>\n",
              "      <td>202</td>\n",
              "      <td>77.227723</td>\n",
              "    </tr>\n",
              "    <tr>\n",
              "      <th>8</th>\n",
              "      <td>2019-09-01</td>\n",
              "      <td>September</td>\n",
              "      <td>126</td>\n",
              "      <td>160</td>\n",
              "      <td>78.750000</td>\n",
              "    </tr>\n",
              "    <tr>\n",
              "      <th>9</th>\n",
              "      <td>2019-10-01</td>\n",
              "      <td>October</td>\n",
              "      <td>104</td>\n",
              "      <td>139</td>\n",
              "      <td>74.820144</td>\n",
              "    </tr>\n",
              "    <tr>\n",
              "      <th>10</th>\n",
              "      <td>2019-11-01</td>\n",
              "      <td>November</td>\n",
              "      <td>124</td>\n",
              "      <td>149</td>\n",
              "      <td>83.221477</td>\n",
              "    </tr>\n",
              "    <tr>\n",
              "      <th>11</th>\n",
              "      <td>2019-12-01</td>\n",
              "      <td>December</td>\n",
              "      <td>140</td>\n",
              "      <td>177</td>\n",
              "      <td>79.096045</td>\n",
              "    </tr>\n",
              "  </tbody>\n",
              "</table>\n",
              "</div>"
            ],
            "text/plain": [
              "Ticket_Type       Date      Month  ...  Received  Porcentaje tickets procesados\n",
              "0           2019-01-01    January  ...       160                     100.000000\n",
              "1           2019-02-01   February  ...       184                     100.000000\n",
              "2           2019-03-01      March  ...       241                      98.340249\n",
              "3           2019-04-01      April  ...       149                      99.328859\n",
              "4           2019-05-01        May  ...       180                     100.555556\n",
              "5           2019-06-01       June  ...       161                      93.167702\n",
              "6           2019-07-01       July  ...       132                      93.181818\n",
              "7           2019-08-01     August  ...       202                      77.227723\n",
              "8           2019-09-01  September  ...       160                      78.750000\n",
              "9           2019-10-01    October  ...       139                      74.820144\n",
              "10          2019-11-01   November  ...       149                      83.221477\n",
              "11          2019-12-01   December  ...       177                      79.096045\n",
              "\n",
              "[12 rows x 5 columns]"
            ]
          },
          "metadata": {
            "tags": []
          },
          "execution_count": 5
        }
      ]
    },
    {
      "cell_type": "markdown",
      "metadata": {
        "id": "MSJZjuagVYHz"
      },
      "source": [
        "**Listado de problemas**\n",
        "\n",
        "1. Los atributos de percepción no son los más adecuados dado que las cifras en algunas barras están superpuestas unas sobre otras, por lo que se debe dedicar más tiempo para comprender el dato\n",
        "\n",
        "2. Al representar una evolución temporal, la gráfica de barras no sería la apropiada si no una gráfica de líneas, esto mejora también el atributo de percepción.\n",
        "\n",
        "3. No está regularizado y los ejes están dados por líneas oscuras. \n",
        "\n",
        "4. Las lineas horizontales no son necesarias.\n",
        "\n",
        "5. No es claro el conocimiento que se desea proporcionar en la gráfica.\n",
        "\n",
        "\n"
      ]
    },
    {
      "cell_type": "code",
      "metadata": {
        "colab": {
          "base_uri": "https://localhost:8080/",
          "height": 470
        },
        "id": "K00LhNrFbeCk",
        "outputId": "a3aba9d9-0152-4f41-cebd-881b99717678"
      },
      "source": [
        "fig = plt.gcf()\n",
        "fig.set_size_inches(12, 6, forward=True)\n",
        "ax = plt.axes()\n",
        "\n",
        "plt.plot(NewDf['Month'],NewDf['Porcentaje tickets procesados'], color='0.6', linewidth=3)\n",
        "\n",
        "plt.vlines(x='May',ymin=0, ymax=100, linestyles='dotted', colors='0.5' )\n",
        "plt.ylabel('% Tickets Procesados', fontdict={'color':'0.5'});\n",
        "plt.xlabel('Mes',fontdict={'color':'0.5'});\n",
        "plt.title('Porcentaje tickets procesados en el 2019', fontdict={'color':'0.3'});\n",
        "\n",
        "ax.spines['bottom'].set_color('0.8')\n",
        "ax.spines['top'].set_color('0.8')\n",
        "ax.spines['right'].set_color('0.8')\n",
        "ax.spines['left'].set_color('0.8')\n",
        "ax.tick_params(axis='x', colors='0.5')\n",
        "ax.tick_params(axis='y', colors='0.5')\n",
        "\n",
        "plt.text('July', 30, 'Después de la partida de los empleados en Mayo,\\n\\\n",
        "cae la eficiencia en la operación un 20%, donde la\\n\\\n",
        "capacidad actual no es capaz de atender todos los \\n\\\n",
        "casos que se reciben')\n",
        "\n",
        "plt.text('January', 30, 'Con el personal completo la cantidad de\\n\\\n",
        "tickets recibidos se atienden\\n\\\n",
        "oportunamente')\n",
        "\n",
        "ax.annotate(\"Datos recolectados de los registros internos de tickets recibidos y procesados\", xy=(0, 0),  xycoords='figure points',\n",
        "                  xytext=(0, 10), textcoords='figure points', color='gray')\n",
        "\n",
        "ax.annotate(\"Para mantener la satisfacción con el cliente,es necesario conservar la plantilla laboral que garantice la \\natención oportuna de los tickets\", \n",
        "            xy=(0, 0),  xycoords='figure points', xytext=(0, 420), textcoords='figure points', color='blue', alpha=0.7, weight='heavy', size=16)\n",
        "\n",
        "plt.show()\n"
      ],
      "execution_count": 6,
      "outputs": [
        {
          "output_type": "display_data",
          "data": {
            "image/png": "[encoded data removed]",
            "text/plain": [
              "<Figure size 864x432 with 1 Axes>"
            ]
          },
          "metadata": {
            "tags": [],
            "needs_background": "light"
          }
        }
      ]
    },
    {
      "cell_type": "markdown",
      "metadata": {
        "id": "Xi5Msm4lUg9o"
      },
      "source": [
        "##**Ejercicio 7**\n",
        " \n",
        "Nuestro departamento de Ciencias de la Universidad ha realizado un Programa para promover \n",
        "la Ciencia en estudiantes de bachillerato. Ahora desean presentar los resultados de las \n",
        "encuestas realizadas antes y después al comité de financiamiento para que se pueda volver a \n",
        "repetir el programa. Tus colegas quieren presentar este gráfico que se muestra a continuación. \n",
        "Analiza la data. Haciendo uso de la técnica de data-link ratio y los Principios del Diseño \n",
        "Analítico cómo crees que presentarías los resultados para comunicar el éxito del programa \n",
        "realizado. Los datos se encuentran en encuestas.json adjunta a esta guía de ejercicios "
      ]
    },
    {
      "cell_type": "code",
      "metadata": {
        "id": "htiC6DzTUnAP",
        "colab": {
          "base_uri": "https://localhost:8080/",
          "height": 204
        },
        "outputId": "b2b5b0a8-f398-4c78-bdbd-b58f88b61ea3"
      },
      "source": [
        "df1=pd.read_json('encuestas.json')\n",
        "df1.head(5)"
      ],
      "execution_count": 8,
      "outputs": [
        {
          "output_type": "execute_result",
          "data": {
            "text/html": [
              "<div>\n",
              "<style scoped>\n",
              "    .dataframe tbody tr th:only-of-type {\n",
              "        vertical-align: middle;\n",
              "    }\n",
              "\n",
              "    .dataframe tbody tr th {\n",
              "        vertical-align: top;\n",
              "    }\n",
              "\n",
              "    .dataframe thead th {\n",
              "        text-align: right;\n",
              "    }\n",
              "</style>\n",
              "<table border=\"1\" class=\"dataframe\">\n",
              "  <thead>\n",
              "    <tr style=\"text-align: right;\">\n",
              "      <th></th>\n",
              "      <th>Opinion</th>\n",
              "      <th>When</th>\n",
              "      <th>Percentage</th>\n",
              "    </tr>\n",
              "  </thead>\n",
              "  <tbody>\n",
              "    <tr>\n",
              "      <th>0</th>\n",
              "      <td>Bored</td>\n",
              "      <td>Before</td>\n",
              "      <td>11</td>\n",
              "    </tr>\n",
              "    <tr>\n",
              "      <th>1</th>\n",
              "      <td>Not great</td>\n",
              "      <td>Before</td>\n",
              "      <td>5</td>\n",
              "    </tr>\n",
              "    <tr>\n",
              "      <th>2</th>\n",
              "      <td>Ok</td>\n",
              "      <td>Before</td>\n",
              "      <td>40</td>\n",
              "    </tr>\n",
              "    <tr>\n",
              "      <th>3</th>\n",
              "      <td>Kind of interested</td>\n",
              "      <td>Before</td>\n",
              "      <td>25</td>\n",
              "    </tr>\n",
              "    <tr>\n",
              "      <th>4</th>\n",
              "      <td>Excited</td>\n",
              "      <td>Before</td>\n",
              "      <td>19</td>\n",
              "    </tr>\n",
              "  </tbody>\n",
              "</table>\n",
              "</div>"
            ],
            "text/plain": [
              "              Opinion    When  Percentage\n",
              "0               Bored  Before          11\n",
              "1           Not great  Before           5\n",
              "2                  Ok  Before          40\n",
              "3  Kind of interested  Before          25\n",
              "4             Excited  Before          19"
            ]
          },
          "metadata": {
            "tags": []
          },
          "execution_count": 8
        }
      ]
    },
    {
      "cell_type": "markdown",
      "metadata": {
        "id": "TRBjs9N8l-pd"
      },
      "source": [
        "**Listado de problemas**\n",
        "\n",
        "1. En el planteamiento propuesto, debo analizar ambas gráficas, característica por característica para determinar si el programa fue favorable o no.\n",
        "\n",
        "2. Los tonos de azul pueden confundir a un daltonico, particularmente para uno de los integrantes del equipo es dificil notar la diferencia.\n",
        "\n",
        "3. El área definida por la figura de pastel no es clara para que por sí misma pueda deducir el valor de la participación en porcentaje, por lo que es necesario agragar más información para hacer la gráfica más clara.\n",
        "\n",
        "4. \n",
        "\n",
        "\n"
      ]
    },
    {
      "cell_type": "code",
      "metadata": {
        "colab": {
          "base_uri": "https://localhost:8080/"
        },
        "id": "NOlvl0wdmQN1",
        "outputId": "5c67fac5-6f85-4505-94ce-7c8e5aad6a87"
      },
      "source": [
        "Opinion=df1['Opinion'].unique()\n",
        "Opinion"
      ],
      "execution_count": 9,
      "outputs": [
        {
          "output_type": "execute_result",
          "data": {
            "text/plain": [
              "array(['Bored', 'Not great', 'Ok', 'Kind of interested', 'Excited'],\n",
              "      dtype=object)"
            ]
          },
          "metadata": {
            "tags": []
          },
          "execution_count": 9
        }
      ]
    },
    {
      "cell_type": "code",
      "metadata": {
        "colab": {
          "base_uri": "https://localhost:8080/"
        },
        "id": "T11xhjpmmo3M",
        "outputId": "ac810efc-4a3f-4c00-996d-28f71de2312a"
      },
      "source": [
        "W=df1['When'].unique()\n",
        "W"
      ],
      "execution_count": 10,
      "outputs": [
        {
          "output_type": "execute_result",
          "data": {
            "text/plain": [
              "array(['Before', 'After'], dtype=object)"
            ]
          },
          "metadata": {
            "tags": []
          },
          "execution_count": 10
        }
      ]
    },
    {
      "cell_type": "code",
      "metadata": {
        "colab": {
          "base_uri": "https://localhost:8080/",
          "height": 204
        },
        "id": "hZW58hnNnNV5",
        "outputId": "30d8e292-677f-4dda-a3a3-ed06869b04cc"
      },
      "source": [
        "NewDf1=df1.pivot(index=['Opinion'], columns='When', values='Percentage').reset_index()\n",
        "NewDf1['Delta Porcentaje']=(NewDf1['After'] -NewDf1['Before'])\n",
        "NewDf1=NewDf1.sort_values(by=['Delta Porcentaje'])\n",
        "NewDf1"
      ],
      "execution_count": 13,
      "outputs": [
        {
          "output_type": "execute_result",
          "data": {
            "text/html": [
              "<div>\n",
              "<style scoped>\n",
              "    .dataframe tbody tr th:only-of-type {\n",
              "        vertical-align: middle;\n",
              "    }\n",
              "\n",
              "    .dataframe tbody tr th {\n",
              "        vertical-align: top;\n",
              "    }\n",
              "\n",
              "    .dataframe thead th {\n",
              "        text-align: right;\n",
              "    }\n",
              "</style>\n",
              "<table border=\"1\" class=\"dataframe\">\n",
              "  <thead>\n",
              "    <tr style=\"text-align: right;\">\n",
              "      <th>When</th>\n",
              "      <th>Opinion</th>\n",
              "      <th>After</th>\n",
              "      <th>Before</th>\n",
              "      <th>Delta Porcentaje</th>\n",
              "    </tr>\n",
              "  </thead>\n",
              "  <tbody>\n",
              "    <tr>\n",
              "      <th>4</th>\n",
              "      <td>Ok</td>\n",
              "      <td>14</td>\n",
              "      <td>40</td>\n",
              "      <td>-26</td>\n",
              "    </tr>\n",
              "    <tr>\n",
              "      <th>0</th>\n",
              "      <td>Bored</td>\n",
              "      <td>12</td>\n",
              "      <td>11</td>\n",
              "      <td>1</td>\n",
              "    </tr>\n",
              "    <tr>\n",
              "      <th>3</th>\n",
              "      <td>Not great</td>\n",
              "      <td>6</td>\n",
              "      <td>5</td>\n",
              "      <td>1</td>\n",
              "    </tr>\n",
              "    <tr>\n",
              "      <th>2</th>\n",
              "      <td>Kind of interested</td>\n",
              "      <td>30</td>\n",
              "      <td>25</td>\n",
              "      <td>5</td>\n",
              "    </tr>\n",
              "    <tr>\n",
              "      <th>1</th>\n",
              "      <td>Excited</td>\n",
              "      <td>38</td>\n",
              "      <td>19</td>\n",
              "      <td>19</td>\n",
              "    </tr>\n",
              "  </tbody>\n",
              "</table>\n",
              "</div>"
            ],
            "text/plain": [
              "When             Opinion  After  Before  Delta Porcentaje\n",
              "4                     Ok     14      40               -26\n",
              "0                  Bored     12      11                 1\n",
              "3              Not great      6       5                 1\n",
              "2     Kind of interested     30      25                 5\n",
              "1                Excited     38      19                19"
            ]
          },
          "metadata": {
            "tags": []
          },
          "execution_count": 13
        }
      ]
    },
    {
      "cell_type": "code",
      "metadata": {
        "colab": {
          "base_uri": "https://localhost:8080/",
          "height": 479
        },
        "id": "kZh-e8BiqFDd",
        "outputId": "a2e27e0c-00ce-4527-caf3-157c8d9dc19e"
      },
      "source": [
        "fig = plt.gcf()\n",
        "fig.set_size_inches(12, 6, forward=True)\n",
        "ax = plt.axes()\n",
        "\n",
        "plt.bar(NewDf1['Opinion'],NewDf1['Delta Porcentaje'], color='0.6', linewidth=3)\n",
        "\n",
        "#plt.vlines(x='May',ymin=0, ymax=100, linestyles='dotted', colors='0.5' )\n",
        "plt.ylabel('Porcentaje cambio aceptación', fontdict={'color':'0.4'});\n",
        "plt.xlabel('Opiniones\\n',fontdict={'color':'0.4'});\n",
        "plt.title('\\n\\n\\n\\nPorcentaje de cambio en la opinión después de implementar el programa', fontdict={'color':'0.3'});\n",
        "\n",
        "ax.spines['bottom'].set_color('0.8')\n",
        "ax.spines['top'].set_color('0.8')\n",
        "ax.spines['right'].set_color('0.8')\n",
        "ax.spines['left'].set_color('0.8')\n",
        "ax.tick_params(axis='x', colors='0.5')\n",
        "ax.tick_params(axis='y', colors='0.5')\n",
        "\n",
        "\n",
        "texto='El programa desplaza\\n el 26% de la población\\nindiferente a la ciencia'\n",
        "\n",
        "plt.text('Bored', -13, texto)\n",
        "ax.annotate('', xy=('Bored', -10), xytext=('Ok', -10),\n",
        "            arrowprops=dict(facecolor='black',arrowstyle='-|>'))\n",
        "\n",
        "texto1='Hacia un incremento del 24%\\npara una opinión positiva'\n",
        "\n",
        "plt.text('Kind of interested', -8, texto1)\n",
        "ax.annotate('', xy=('Excited', -2), xytext=('Kind of interested', -2),\n",
        "            arrowprops=dict(facecolor='black', arrowstyle='|-|'))\n",
        "\n",
        "ax.annotate('', xy=('Kind of interested', -7), xytext=('Not great', -11),\n",
        "            arrowprops=dict(facecolor='black', arrowstyle='-|>'))\n",
        "\n",
        "texto3='El lanzamiento del programa fue efectivo al obtener un incremento del 24% sobre\\nuna opinión favorable a la Ciencia\\n'\n",
        "ax.annotate(texto3, xy=(0, 0),  xycoords='figure points', xytext=(0, 400), textcoords='figure points', \n",
        "            color='blue', alpha=0.7, weight='heavy', size=16)\n",
        "\n",
        "ax.annotate(\"\\n\\nLos datos son obtenidos por una encuesta realizada con los estudiantes antes de iniciar el programa y después de su implementación\", xy=(0, 0),  xycoords='figure points',\n",
        "                  xytext=(0, 10), textcoords='figure points', color='gray')\n",
        "plt.show()"
      ],
      "execution_count": 77,
      "outputs": [
        {
          "output_type": "display_data",
          "data": {
            "image/png": "[encoded data removed]",
            "text/plain": [
              "<Figure size 864x432 with 1 Axes>"
            ]
          },
          "metadata": {
            "tags": [],
            "needs_background": "light"
          }
        }
      ]
    }
  ]
}